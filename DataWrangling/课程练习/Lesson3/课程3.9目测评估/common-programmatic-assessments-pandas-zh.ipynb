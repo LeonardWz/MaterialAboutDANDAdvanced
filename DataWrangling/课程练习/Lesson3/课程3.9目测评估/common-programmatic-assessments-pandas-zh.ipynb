{
 "cells": [
  {
   "cell_type": "markdown",
   "metadata": {},
   "source": [
    "## pandas 中常见评估程序\n",
    "### 收集"
   ]
  },
  {
   "cell_type": "code",
   "execution_count": null,
   "metadata": {},
   "outputs": [],
   "source": [
    "import pandas as pd"
   ]
  },
  {
   "cell_type": "code",
   "execution_count": null,
   "metadata": {},
   "outputs": [],
   "source": [
    "patients = pd.read_csv('patients.csv')\n",
    "treatments = pd.read_csv('treatments.csv')\n",
    "adverse_reactions = pd.read_csv('adverse_reactions.csv')"
   ]
  },
  {
   "cell_type": "markdown",
   "metadata": {},
   "source": [
    "### 评估\n",
    "以下是你经常会在 pandas 中使用的程序评估方法：\n",
    "\n",
    "* .head (DataFrame 和 Series)\n",
    "* .tail (DataFrame 和 Series)\n",
    "* .sample (DataFrame 和 Series)\n",
    "* .info (仅限于 DataFrame)\n",
    "* .describe (DataFrame 和 Series)\n",
    "* .value_counts (仅限于 Series)\n",
    "* 各种索引和筛选数据的方法 (.loc and bracket notation with/without boolean indexing, also .iloc)\n",
    "\n",
    "在下面尝试这些方法，并记住结果。随后的课程中会需要一些结果。\n",
    "\n",
    "核对 [pandas API reference](https://pandas.pydata.org/pandas-docs/stable/api.html) 获取详细使用方法信息。\n",
    "\n",
    "在 `patients` 表格中使用 `.head` 和 `.tail`。"
   ]
  },
  {
   "cell_type": "markdown",
   "metadata": {},
   "source": [
    "在  `treatments`  表格中使用  `.sample` 。"
   ]
  },
  {
   "cell_type": "markdown",
   "metadata": {},
   "source": [
    "在 `treatments`  表格中使用  `.info` 。"
   ]
  },
  {
   "cell_type": "markdown",
   "metadata": {},
   "source": [
    "在 `patients` 表格中使用  `.describe`。"
   ]
  },
  {
   "cell_type": "markdown",
   "metadata": {},
   "source": [
    "在  `adverse_reactions`  表格的 *adverse_reaction*  一列使用 `.value_counts` 。"
   ]
  },
  {
   "cell_type": "markdown",
   "metadata": {},
   "source": [
    "在 `patients` 表格中选择 *city* 来自纽约的病人记录。如果遇到困难，根据 Chris Albon 在  [利用 Pandas 索引和筛选数据](https://chrisalbon.com/python/pandas_indexing_selecting.html) ，核对 *根据条件语句选择 (布尔)*。"
   ]
  }
 ],
 "metadata": {
  "kernelspec": {
   "display_name": "Python 3",
   "language": "python",
   "name": "python3"
  },
  "language_info": {
   "codemirror_mode": {
    "name": "ipython",
    "version": 3
   },
   "file_extension": ".py",
   "mimetype": "text/x-python",
   "name": "python",
   "nbconvert_exporter": "python",
   "pygments_lexer": "ipython3",
   "version": "3.6.3"
  }
 },
 "nbformat": 4,
 "nbformat_minor": 2
}
