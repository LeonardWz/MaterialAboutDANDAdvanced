{
 "cells": [
  {
   "cell_type": "markdown",
   "metadata": {},
   "source": [
    "## 熟悉视觉评估\n",
    "Auralin 二阶段临床试验数据集来自 3 个表格：`patients`、`treatments` 和 `adverse_reactions`。通过下列视觉评估熟悉这些表格。 \n",
    "\n",
    "### 收集"
   ]
  },
  {
   "cell_type": "code",
   "execution_count": null,
   "metadata": {},
   "outputs": [],
   "source": [
    "import pandas as pd"
   ]
  },
  {
   "cell_type": "code",
   "execution_count": null,
   "metadata": {},
   "outputs": [],
   "source": [
    "patients = pd.read_csv('patients.csv')\n",
    "treatments = pd.read_csv('treatments.csv')\n",
    "adverse_reactions = pd.read_csv('adverse_reactions.csv')"
   ]
  },
  {
   "cell_type": "markdown",
   "metadata": {},
   "source": [
    "### 评估\n",
    "下列网格描述了这次临床试验数据集中每个表格的各列情况。为了观察表格与对应的描述，通过显示收集的 pandas DataFrame，显示整个表格。这个任务属于 pandas 视觉评估的机械性部分。"
   ]
  },
  {
   "cell_type": "code",
   "execution_count": null,
   "metadata": {},
   "outputs": [],
   "source": [
    "# 显示表格 patients(病人)\n"
   ]
  },
  {
   "cell_type": "markdown",
   "metadata": {},
   "source": [
    "`patients` 各列包括：\n",
    "- **病人编号**：制药公司的 [病人主索引](https://en.wikipedia.org/wiki/Enterprise_master_patient_index) (即病人数据库) 中每个病人的唯一标识\n",
    "- **指定性别**：每个病人出生时被指定的性别 (男或女)\n",
    "- **名**：每个病人的名\n",
    "- **姓**：每个病人的姓\n",
    "- **地址**：每个病人的主地址\n",
    "- **城市**：每个病人主地址对应的城市\n",
    "- **州**：每个病人主地址对应的州\n",
    "- **邮编**：每个病人主地址对应的邮编\n",
    "- **国家**：每个病人主地址对应的国家 (这次临床试验均为美国)\n",
    "- **联系方式**：每个病人的手机号和邮箱信息\n",
    "- **出生日期**：每个病人的出生日期 (月/日/年)。 这次临床试验的 [入选标准](https://en.wikipedia.org/wiki/Inclusion_and_exclusion_criteria) 是年龄 >= 18 *(因为糖尿病是老年人群中 [日益严重的问题](http://www.diabetes.co.uk/diabetes-and-the-elderly.html)，所以没有年龄上限)*\n",
    "- **体重**：每个病人的体重，单位为磅 (lbs)\n",
    "- **身高**：每个病人的身高，单位为英尺 (in)\n",
    "- **bmi**：每个病人的体质指数 (BMI) 。体质指数是对一个人身高和体重的简单计算。公式为 BMI = kg/m<sup>2</sup> 其中 kg 是一个人的体重，单位为千克， m<sup>2</sup> 是一个人身高的平方，单位是米。BMI 超过 25.0 为超重，健康区间是 18.5 到 24.9。 *这次临床试验的 [入选标准](https://en.wikipedia.org/wiki/Inclusion_and_exclusion_criteria) 是 16 >= BMI >= 38。*"
   ]
  },
  {
   "cell_type": "code",
   "execution_count": null,
   "metadata": {},
   "outputs": [],
   "source": [
    "# Display the treatments table\n"
   ]
  },
  {
   "cell_type": "markdown",
   "metadata": {},
   "source": [
    "350 个病人参加了这次临床试验。所有病人都没有使用过 Novodra (一种常见的注射胰岛素) 和 Auralin (正在研发中的口服胰岛素) 作为胰岛素的主要来源。所有人都有过糖化血红蛋白 (HbA1c) 偏高的经历。\n",
    "\n",
    "所有 350 个病人起初都服用 Novodra，建立糖化血红蛋白水平基准和胰岛素剂量。四周后，由于时间较短无法观察到糖化血红蛋白的变化，因此有利于改为使用 Auralin 或 Novodra：\n",
    "- 175 个病人在接下来的 24 周使用 Auralin\n",
    "- 175 个病人在接下来的 24 周继续使用 Novodra \n",
    "\n",
    "`treatments` 各列包括：\n",
    "- **名**：参加这次临床试验的病人主索引中每个病人的名\n",
    "- **姓**：参加这次临床试验的病人主索引中每个病人的姓 \n",
    "- **auralin**：从改为使用 Auralin 的那一周开始，平均每天使用胰岛素剂量的基线  (破折号之前的数字) *以及* 经过 24周的治疗后，平均每天使用胰岛素剂量的最终水平 (破折号之后的数字)。两者测量单位是 units (缩写形式为 'u')，这是测量的 [国际单位](https://en.wikipedia.org/wiki/International_unit) 和胰岛素的标准度量。\n",
    "- **novodra**：同上，除了继续使用 Novodra 治疗的病人\n",
    "- **hba1c_start**：病人接受治疗第一周的糖化血红蛋白水平。HbA1c 代表糖化血红蛋白。 [HbA1c 检测](https://depts.washington.edu/uwcoe/healthtopics/diabetes.html) 测量了过去三个月的平均血糖水平。因此这是获取如何有效控制糖尿病的较好方式。糖尿病患者每年应该进行 2 到 4 次 HbA1c 检测。单位是 %。\n",
    "- **hba1c_end**：病人治疗最后一周的糖化血红蛋白水平\n",
    "- **hba1c_change**：从治疗初期到最后，病人糖化血红蛋白水平的变化，即  `hba1c_start` - `hba1c_end`。如果认为 Auralin 有效，必须 \"不劣于\" Novodra，即胰岛素的当前标准。从统计意义上来说，这种 \"非劣性\" 应当是置信区间最大值为 95%，Novodra 和 Auralin 的糖化血红蛋白的平均变化 (即 Novodra 减去 Auralin) 差异小于 0.4%。"
   ]
  },
  {
   "cell_type": "code",
   "execution_count": null,
   "metadata": {},
   "outputs": [],
   "source": [
    "# 显示 adverse_reactions 表格\n"
   ]
  },
  {
   "cell_type": "markdown",
   "metadata": {},
   "source": [
    "`adverse_reactions` 各列包括：\n",
    "- **名**：参加这次临床试验且发生不良反应 (包括使用 Auralin 和 Novodra 的病人) 的病人主索引中，每个病人的名\n",
    "- **姓**：参加这次临床试验且发生不良反应 (包括使用 Auralin 和 Novodra 的病人) 的病人主索引中，每个病人的姓\n",
    "- **adverse_reaction**：病人报告的不良反应\n",
    "\n",
    "其他有效信息：\n",
    "- [胰岛素耐受性因人而异](http://www.tudiabetes.org/forum/t/how-much-insulin-is-too-much-on-a-daily-basis/9804/5)，这是需要胰岛素初始平均日剂量和最终平均日剂量的原因，即测算剂量变化。\n",
    "- 检测人们能够使用的药物和医用品，非常重要。临床试验需要涵盖不同年龄、种族、性别和民族的人们。这种 [多样性](https://www.clinicalleader.com/doc/an-fda-perspective-on-patient-diversity-in-clinical-trials-0001) 体现在 `patients` 表格中。\n",
    "- 确保各列名称具有可描述性，这是熟悉数据的重要步骤。 '具有可描述性' 是主观的。理论上说，你需要使用较短的列名称 (这样可以在代码表格中轻松输入和读取)，同时具有较好的描述性。 长度和可描述性需要权衡，也是较常见的争论 ([类似争论](https://softwareengineering.stackexchange.com/questions/176582/is-there-an-excuse-for-short-variable-names) 针对变量名称)。 *auralin* 和 *novodra* 列的名称不具有可描述性，但是以后你可以解决这个问题，现在不必担心。"
   ]
  }
 ],
 "metadata": {
  "kernelspec": {
   "display_name": "Python 3",
   "language": "python",
   "name": "python3"
  },
  "language_info": {
   "codemirror_mode": {
    "name": "ipython",
    "version": 3
   },
   "file_extension": ".py",
   "mimetype": "text/x-python",
   "name": "python",
   "nbconvert_exporter": "python",
   "pygments_lexer": "ipython3",
   "version": "3.6.3"
  }
 },
 "nbformat": 4,
 "nbformat_minor": 2
}
