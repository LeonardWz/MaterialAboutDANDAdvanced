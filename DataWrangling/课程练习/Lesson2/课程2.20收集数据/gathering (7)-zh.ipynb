{
 "cells": [
  {
   "cell_type": "code",
   "execution_count": null,
   "metadata": {},
   "outputs": [],
   "source": [
    "import pandas as pd"
   ]
  },
  {
   "cell_type": "code",
   "execution_count": null,
   "metadata": {},
   "outputs": [],
   "source": [
    "###"
   ]
  },
  {
   "cell_type": "markdown",
   "metadata": {},
   "source": [
    "假设这个记事本包含整个课程中所有收集的数据，以及这些场景背后的评估和清理代码，最终产品是混合后的主 DataFrame，称为 *df*。"
   ]
  },
  {
   "cell_type": "code",
   "execution_count": null,
   "metadata": {},
   "outputs": [],
   "source": [
    "df = pd.read_csv('gathered_assessed_cleaned.csv')"
   ]
  },
  {
   "cell_type": "code",
   "execution_count": null,
   "metadata": {},
   "outputs": [],
   "source": [
    "###"
   ]
  },
  {
   "cell_type": "code",
   "execution_count": null,
   "metadata": {},
   "outputs": [],
   "source": [
    "# 这里是你的代码\n",
    "# 保存主 DataFrame 到 'bestofrt_master.csv' 文件中\n",
    "# 提示：注意索引！\n"
   ]
  },
  {
   "cell_type": "markdown",
   "metadata": {},
   "source": [
    "## 解答测试\n",
    "运行下列单元格，查看你的解答是否正确。如果得到 AssertionError，你的答案不正确。如果没有出现错误，你的答案是正确的。"
   ]
  },
  {
   "cell_type": "code",
   "execution_count": null,
   "metadata": {},
   "outputs": [],
   "source": [
    "import filecmp\n",
    "fc = filecmp.cmp('bestofrt_master_solution.csv',\n",
    "                 'bestofrt_master.csv')\n",
    "assert fc"
   ]
  }
 ],
 "metadata": {},
 "nbformat": 4,
 "nbformat_minor": 2
}
